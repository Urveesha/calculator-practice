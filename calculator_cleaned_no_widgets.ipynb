{
  "cells": [
    {
      "cell_type": "markdown",
      "metadata": {
        "colab_type": "text",
        "id": "view-in-github"
      },
      "source": [
        "<a href=\"https://colab.research.google.com/github/Urveesha/calculator-practice/blob/main/calculator_initial_all_codes_together.ipynb\" target=\"_parent\"><img src=\"https://colab.research.google.com/assets/colab-badge.svg\" alt=\"Open In Colab\"/></a>"
      ]
    },
    {
      "cell_type": "code",
      "execution_count": null,
      "metadata": {
        "colab": {
          "base_uri": "https://localhost:8080/",
          "height": 162,
          "referenced_widgets": [
            "10d48854f88446d78bd5e5f70b532351",
            "b19de45cc3e7430c92a2e61d79ac0075",
            "757acba200454ae1b14abb30ddf19457",
            "e3e28c1852c449e79d2613b81519c24b",
            "c0542b3073ff468a8cda88df0799a248",
            "65cee35886194aeaad99e705b7ea3b2d",
            "b2763637de5c4b6ea526db29ac3ad09d",
            "cd1875e7e02642119b2d9c253de0d70a",
            "05a0329afd164f6bbc6fd5e6adf20d25",
            "70e2a6f4e8374215ae3e49e8c1764bcc",
            "fa9f2c5bc4c94a9ca8785ed8821d54ac",
            "60e629d8225e4e1d9e01d729f653c201",
            "1cfec376423a47ea9bcdb68ff887bb65",
            "969b4525e45d42cbb89870e1c3d8ce11",
            "d7e2253fb4e5499b9e34839a7e50f66d",
            "76c0baa1fa42438889d102c981f62af5"
          ]
        },
        "id": "KoCu6AhncL3q",
        "outputId": "c34542e2-a561-4d28-b4a5-08b9ebf77fee"
      },
      "outputs": [
        {
          "data": {
            "application/vnd.jupyter.widget-view+json": {
              "model_id": "10d48854f88446d78bd5e5f70b532351",
              "version_major": 2,
              "version_minor": 0
            },
            "text/plain": [
              "VBox(children=(FloatText(value=0.0, description='Number 1:'), FloatText(value=0.0, description='Number 2:'), D\u2026"
            ]
          },
          "metadata": {},
          "output_type": "display_data"
        }
      ],
      "source": [
        "import ipywidgets as widgets\n",
        "from IPython.display import display, clear_output\n",
        "\n",
        "# Inputs\n",
        "num1 = widgets.FloatText(description=\"Number 1:\")\n",
        "num2 = widgets.FloatText(description=\"Number 2:\")\n",
        "\n",
        "# Operation\n",
        "operation = widgets.Dropdown(\n",
        "    options=[\"+\", \"-\", \"*\", \"/\"],\n",
        "    description=\"Operation:\"\n",
        ")\n",
        "\n",
        "# Button\n",
        "button = widgets.Button(description=\"Calculate\", button_style='success')\n",
        "\n",
        "# Output\n",
        "output = widgets.Output()\n",
        "\n",
        "# Logic\n",
        "def calculate_result(b):\n",
        "    with output:\n",
        "        clear_output()\n",
        "        try:\n",
        "            a = num1.value\n",
        "            b = num2.value\n",
        "            op = operation.value\n",
        "            if op == \"+\":\n",
        "                result = a + b\n",
        "            elif op == \"-\":\n",
        "                result = a - b\n",
        "            elif op == \"*\":\n",
        "                result = a * b\n",
        "            elif op == \"/\":\n",
        "                result = \"Error: Division by zero\" if b == 0 else a / b\n",
        "            print(f\"Result: {result}\")\n",
        "        except Exception as e:\n",
        "            print(f\"Error: {e}\")\n",
        "\n",
        "# Connect button to logic\n",
        "button.on_click(calculate_result)\n",
        "\n",
        "# Layout\n",
        "display(widgets.VBox([num1, num2, operation, button, output]))\n"
      ]
    },
    {
      "cell_type": "code",
      "execution_count": null,
      "metadata": {
        "colab": {
          "base_uri": "https://localhost:8080/",
          "height": 177,
          "referenced_widgets": [
            "6174d369b1d7486e929bfcb13dfd59ea",
            "88687a3ad3ed4c0abdef517ef04feab7",
            "2d851d16b0a646559758763d0ead867d",
            "10c312553dc1419ba73bb9f59db6665f",
            "3d214b9184514e69872b31971512c5f2",
            "1550d565b94443078634476a05ffeda8",
            "ab4e02c2feca40a48a1305bd55590c4e",
            "b9c749926ef840f3a3ed344a3d7e3d02",
            "1a7ffd6364c84ea3b258f46d62178849",
            "53f6925f7eae4ef8b26061f8939ee0ad",
            "22b4a72104904dd19b3033f84e9427ba",
            "4970e3791a174b43b37b0540a90e7abf",
            "ade9a6a20f6d4303a3bebd08942ff234",
            "198d042c5cc14dc786afdb0a2ba9005d",
            "0fd4737cf5fc41f1bd4d99cefbbbbfbd",
            "8ed995d0136d498a9c505b5a3de09762",
            "7e82adefd6e7485f9a70e1a1c2c4fb6f",
            "cbf1014fcd434cb4937d9a0e2b88a424",
            "20494c0eb0fc4f67903cc7bb6f9635ed",
            "43d4a5582efd47c486b1ab0b266e3b3a",
            "cab3c2d4cf264dd6845dc8c45a958de7",
            "3c02bce9f8c84fbe948f2ba301a4661d",
            "f2f8b45a368d4c44afb6ed24f1c98c3e",
            "570543dbae8e4cef8719f21d76c011da",
            "0f1ae022505a4db09591aa93822dd1ac",
            "c2d07ef303dc410881d7752a9219352f",
            "ac8d07948e2847b4ad12f66b2888f419",
            "0f7056a793844b4d8b12c1319f463083",
            "6e6103726f424b27acc52d2d953ca79a",
            "00d330824d964ae3986c14ef2e4bb0cc",
            "ad39e0ba13994646872f8e1919de87a7",
            "4588b10aeb054215aaf99b7fa2389b40",
            "8ceac56a1da54b1da44b562b18b1f09f",
            "18e359469f2941e7ad8b7e24b207ddd7",
            "9052754fc8ab4647b18db112899771b0",
            "f6a0735309864dc3a1808cc09b360722",
            "a8fa933a29114bf1a40e841fb8d86d3a",
            "6069cc8304894cdb8b6ebf0ee2894459",
            "9fa371145aba4d01968a9cbd9412d697",
            "8aefbb2e46134c92beba4c9b899084b5",
            "57cbca38cd8b48de9df3ca778675f6fa",
            "bf56a6813a7941e2a598699cef59672b",
            "a3101869abbe460084a0b840393080a6",
            "d68b2cbefde646c9befd93d19e54af86",
            "590af717316f42e7a5dfb473a9081c49",
            "253face04bf7445e98feb9f8ccaa3eb9",
            "ada7946d0d7a4c3ea183bf8903816507",
            "0bda73b70a924cba92681ce7113de79b",
            "52e45570b33744d1919f8cca5ecc970b",
            "a16fd25153954633b642ab0c510603f5",
            "6049119da3be402db2c11a9f1c91bfc9",
            "5c61b0bc13f24962b53ec3a32bc25a90",
            "904d24bbf1aa46ad9ba6bca31c8bea55",
            "ec4ba8c5a8314a6ebe005d62525d7623",
            "5df5c37a53b641faa42c1f9c0d52977c",
            "f27b41db1c174eec9ebe6f5d2d5bccb6",
            "e8ce5da7fa5e400cb5cb7485a9fdd18c",
            "3f20816513e842df959a65758bbaa31d",
            "dff92495eecb493491fd595720867e73",
            "3a57b58196d9457dae1913bb403bd426",
            "b7773ea6d9aa4dbd8d5f88f2b7485ce4"
          ]
        },
        "id": "gVSNZk3CepLg",
        "outputId": "3747e365-e2c7-4443-8e7d-d019ded0e1c8"
      },
      "outputs": [
        {
          "data": {
            "application/vnd.jupyter.widget-view+json": {
              "model_id": "6174d369b1d7486e929bfcb13dfd59ea",
              "version_major": 2,
              "version_minor": 0
            },
            "text/plain": [
              "Text(value='', description='Calc:', disabled=True)"
            ]
          },
          "metadata": {},
          "output_type": "display_data"
        },
        {
          "data": {
            "application/vnd.jupyter.widget-view+json": {
              "model_id": "10c312553dc1419ba73bb9f59db6665f",
              "version_major": 2,
              "version_minor": 0
            },
            "text/plain": [
              "HBox(children=(Button(description='7', layout=Layout(width='50px'), style=ButtonStyle()), Button(description='\u2026"
            ]
          },
          "metadata": {},
          "output_type": "display_data"
        },
        {
          "data": {
            "application/vnd.jupyter.widget-view+json": {
              "model_id": "cbf1014fcd434cb4937d9a0e2b88a424",
              "version_major": 2,
              "version_minor": 0
            },
            "text/plain": [
              "HBox(children=(Button(description='4', layout=Layout(width='50px'), style=ButtonStyle()), Button(description='\u2026"
            ]
          },
          "metadata": {},
          "output_type": "display_data"
        },
        {
          "data": {
            "application/vnd.jupyter.widget-view+json": {
              "model_id": "4588b10aeb054215aaf99b7fa2389b40",
              "version_major": 2,
              "version_minor": 0
            },
            "text/plain": [
              "HBox(children=(Button(description='1', layout=Layout(width='50px'), style=ButtonStyle()), Button(description='\u2026"
            ]
          },
          "metadata": {},
          "output_type": "display_data"
        },
        {
          "data": {
            "application/vnd.jupyter.widget-view+json": {
              "model_id": "253face04bf7445e98feb9f8ccaa3eb9",
              "version_major": 2,
              "version_minor": 0
            },
            "text/plain": [
              "HBox(children=(Button(description='0', layout=Layout(width='50px'), style=ButtonStyle()), Button(description='\u2026"
            ]
          },
          "metadata": {},
          "output_type": "display_data"
        },
        {
          "data": {
            "application/vnd.jupyter.widget-view+json": {
              "model_id": "3a57b58196d9457dae1913bb403bd426",
              "version_major": 2,
              "version_minor": 0
            },
            "text/plain": [
              "Output()"
            ]
          },
          "metadata": {},
          "output_type": "display_data"
        }
      ],
      "source": [
        "import ipywidgets as widgets\n",
        "from IPython.display import display, clear_output\n",
        "\n",
        "# Display area\n",
        "display_area = widgets.Text(value='', description='Calc:', disabled=True)\n",
        "\n",
        "# Output area\n",
        "output = widgets.Output()\n",
        "\n",
        "# Expression being built\n",
        "expression = []\n",
        "\n",
        "# Function to update display\n",
        "def update_display():\n",
        "    display_area.value = ''.join(expression)\n",
        "\n",
        "# Button click handler\n",
        "def on_button_click(b):\n",
        "    label = b.description\n",
        "    if label == \"C\":\n",
        "        expression.clear()\n",
        "        update_display()\n",
        "        with output:\n",
        "            clear_output()\n",
        "    elif label == \"=\":\n",
        "        try:\n",
        "            with output:\n",
        "                clear_output()\n",
        "                result = eval(''.join(expression))\n",
        "                print(f\"Result: {result}\")\n",
        "                expression.clear()\n",
        "                expression.append(str(result))\n",
        "                update_display()\n",
        "        except Exception as e:\n",
        "            with output:\n",
        "                clear_output()\n",
        "                print(\"Error:\", e)\n",
        "    else:\n",
        "        expression.append(label)\n",
        "        update_display()\n",
        "\n",
        "# Buttons\n",
        "button_labels = [\n",
        "    [\"7\", \"8\", \"9\", \"/\"],\n",
        "    [\"4\", \"5\", \"6\", \"*\"],\n",
        "    [\"1\", \"2\", \"3\", \"-\"],\n",
        "    [\"0\", \"C\", \"=\", \"+\"]\n",
        "]\n",
        "\n",
        "# Create buttons\n",
        "rows = []\n",
        "for row in button_labels:\n",
        "    button_row = []\n",
        "    for label in row:\n",
        "        btn = widgets.Button(description=label, layout=widgets.Layout(width='50px'))\n",
        "        btn.on_click(on_button_click)\n",
        "        button_row.append(btn)\n",
        "    rows.append(widgets.HBox(button_row))\n",
        "\n",
        "# Display calculator\n",
        "display(display_area)\n",
        "for row in rows:\n",
        "    display(row)\n",
        "display(output)\n"
      ]
    },
    {
      "cell_type": "code",
      "execution_count": null,
      "metadata": {
        "colab": {
          "base_uri": "https://localhost:8080/",
          "height": 177,
          "referenced_widgets": [
            "2c3bf2639fc443b78db2760a5b59c713",
            "65d9400109234e8ebb0b6cd9a81f6b92",
            "daff35ed393b42018808a91022a00da8",
            "da45801ae94d438280d0ba9ba1a67632",
            "f07c9f43cde84470817fcea0df2fc0b8",
            "06b82a5d28bd46ddaf39d04f567ff98b",
            "2e6f6e48d07d42bd88940385b9bbcdb9",
            "0829c89ee2654acab7dbe96dd9de8222",
            "3de95043ccf34e2094ff77a135c20a97",
            "9543828a80af46ac877bcf85f6ba79b6",
            "828c8a3bcb434eaab60c4c92360363b3",
            "f52d88fa33b84c6aaf4d61b05a5dfb63",
            "0db26f5cbc9547b6bc17680883060ff1",
            "24fba08558414ce5baab8ab2476e65b6",
            "5b07f444077a4094a35142db032fd37d",
            "0b4f0a3791964c2499f6b98c8269529c",
            "511d2d3ad38840609bfcfc9c8194b167",
            "84139e0ba5634b94920c92ca92f87ded",
            "567cd1ac18f2454c9928ba61e672c988",
            "34fe5b57a6964cf3a351e41a51101a7b",
            "46c8204839b84fc19ac63b4b80dca487",
            "abf06bddbf654b129e48791d077833ca",
            "87491c9d66ac475aa3b564da885c8dc8",
            "511585d2a09b4ac59c0ed8670e26a129",
            "72b81c8774a04f5181b51e0175366ee9",
            "6f51235309f74d8796161066fa29328a",
            "7fd03fcdc5454316ad6a41cd961e38b2",
            "c40a10dbcae341d1a27845f073b50f77",
            "f5525e6ef21641e89ff9f550fb989436",
            "37dfcaa37ea046ea8b43a4c2a3bf1437",
            "af776526ba1d44ae93abb76cf2ffda21",
            "2b81ffa120fb4951b45ee854c29534bf",
            "90b1328cef264f9ca9542df6d78f9ee4",
            "b87f9b1b30184d939c586743c3109ebe",
            "b7ee8b2154ba400cb9b7ef2436efee3b",
            "28a7243631d14347838bb4afcb78e823",
            "55139aa52d8c4986a963307fe1e97948",
            "9ed5cb26617348429d48916930956e0b",
            "101f8322eac04e50b426ac8694012274",
            "b80bfe1327774af498a992fd8b3870de",
            "6c5bcdc82aa94be9a42f94c8ff9b0fb4",
            "8dced6399d994d0ead2d0aba28e157df",
            "4189eba703df4ebcaa48870cab0527c9",
            "0ab4ec7249da46c0ae270ef9fe8d8feb",
            "3d73db9fa5d6413485ac7b82f5452b50",
            "1154839bc09a4cdabd77984bea40b6d3",
            "39783ffff139411cb8cf9a769761f1c5",
            "c4754b21efba43f3bd1e10f1272ede70",
            "b802a99cd6244f19a847015b812552b4",
            "7f46a09f97d948788dac01a2549d8ba1",
            "2e45d366e5f64ba3880fa6cebbe05f2d",
            "53d49237b81b4562a583cd83c0b7640f",
            "a2506104919a483da6bf0519f04fb823",
            "fec6f609569f4712a95ceda2736e2070",
            "15c3f932718a4f0f9a1bf4c92f62a18c",
            "fb8b04fe789240e5a630db65c06f5bf5",
            "b5b8e3a3d073451a9ce9a26dc21b1ef3",
            "380ede95ea5a485391faf10e0f062984",
            "9dd8b4c745df4486bb31d131148d48ca",
            "fb1c786816dd419aadb501c42d8c950b",
            "48bc5a537e70499284c6903b4dc471cc"
          ]
        },
        "id": "1rhkGtx-fevk",
        "outputId": "147f5bd6-9600-409e-a364-9a297c22cb0e"
      },
      "outputs": [
        {
          "data": {
            "application/vnd.jupyter.widget-view+json": {
              "model_id": "2c3bf2639fc443b78db2760a5b59c713",
              "version_major": 2,
              "version_minor": 0
            },
            "text/plain": [
              "Text(value='', description='Calculate:', disabled=True)"
            ]
          },
          "metadata": {},
          "output_type": "display_data"
        },
        {
          "data": {
            "application/vnd.jupyter.widget-view+json": {
              "model_id": "da45801ae94d438280d0ba9ba1a67632",
              "version_major": 2,
              "version_minor": 0
            },
            "text/plain": [
              "HBox(children=(Button(description='7', layout=Layout(width='50px'), style=ButtonStyle()), Button(description='\u2026"
            ]
          },
          "metadata": {},
          "output_type": "display_data"
        },
        {
          "data": {
            "application/vnd.jupyter.widget-view+json": {
              "model_id": "84139e0ba5634b94920c92ca92f87ded",
              "version_major": 2,
              "version_minor": 0
            },
            "text/plain": [
              "HBox(children=(Button(description='4', layout=Layout(width='50px'), style=ButtonStyle()), Button(description='\u2026"
            ]
          },
          "metadata": {},
          "output_type": "display_data"
        },
        {
          "data": {
            "application/vnd.jupyter.widget-view+json": {
              "model_id": "2b81ffa120fb4951b45ee854c29534bf",
              "version_major": 2,
              "version_minor": 0
            },
            "text/plain": [
              "HBox(children=(Button(description='1', layout=Layout(width='50px'), style=ButtonStyle()), Button(description='\u2026"
            ]
          },
          "metadata": {},
          "output_type": "display_data"
        },
        {
          "data": {
            "application/vnd.jupyter.widget-view+json": {
              "model_id": "1154839bc09a4cdabd77984bea40b6d3",
              "version_major": 2,
              "version_minor": 0
            },
            "text/plain": [
              "HBox(children=(Button(description='0', layout=Layout(width='50px'), style=ButtonStyle()), Button(description='\u2026"
            ]
          },
          "metadata": {},
          "output_type": "display_data"
        },
        {
          "data": {
            "application/vnd.jupyter.widget-view+json": {
              "model_id": "fb1c786816dd419aadb501c42d8c950b",
              "version_major": 2,
              "version_minor": 0
            },
            "text/plain": [
              "Output()"
            ]
          },
          "metadata": {},
          "output_type": "display_data"
        }
      ],
      "source": [
        "import ipywidgets as widgets\n",
        "from IPython.display import display, clear_output\n",
        "\n",
        "# ------------------------------\n",
        "# UI Setup: Display and Output\n",
        "# ------------------------------\n",
        "display_area = widgets.Text(value='', description='Calculate:', disabled=True)\n",
        "output = widgets.Output()\n",
        "expression = []\n",
        "\n",
        "# ------------------------------\n",
        "# Update display with expression\n",
        "# ------------------------------\n",
        "def update_display():\n",
        "    display_area.value = ''.join(expression)\n",
        "\n",
        "# ------------------------------\n",
        "# Handle button click events\n",
        "# ------------------------------\n",
        "def on_button_click(b):\n",
        "    label = b.description\n",
        "\n",
        "    if label == \"C\":\n",
        "        expression.clear()\n",
        "        update_display()\n",
        "        with output:\n",
        "            clear_output()\n",
        "    elif label == \"=\":\n",
        "        try:\n",
        "            with output:\n",
        "                clear_output()\n",
        "                result = eval(''.join(expression))\n",
        "                print(f\"Result: {result}\")\n",
        "                expression.clear()\n",
        "                expression.append(str(result))\n",
        "                update_display()\n",
        "        except Exception as e:\n",
        "            with output:\n",
        "                clear_output()\n",
        "                print(\"Error:\", e)\n",
        "    else:\n",
        "        expression.append(label)\n",
        "        update_display()\n",
        "\n",
        "# ------------------------------\n",
        "# Create and Style Buttons\n",
        "# ------------------------------\n",
        "button_labels = [\n",
        "    [\"7\", \"8\", \"9\", \"/\"],\n",
        "    [\"4\", \"5\", \"6\", \"*\"],\n",
        "    [\"1\", \"2\", \"3\", \"-\"],\n",
        "    [\"0\", \"C\", \"=\", \"+\"]\n",
        "]\n",
        "\n",
        "# Function to style buttons\n",
        "def get_button(label):\n",
        "    btn = widgets.Button(description=label, layout=widgets.Layout(width='50px'))\n",
        "\n",
        "    # Apply custom colors\n",
        "    # Hexadecimal color code as i used ipywidgets.Button.style.button_color requiring a valid CSS color (HTML COLOR CODES)\n",
        "\n",
        "    if label in {\"+\", \"-\", \"*\", \"/\"}:\n",
        "        btn.style.button_color = \"#FFA500\"  # orange\n",
        "    elif label == \"=\":\n",
        "        btn.style.button_color = \"#FFA500\"  # Orange\n",
        "    elif label == \"C\":\n",
        "        btn.style.button_color = \"#4D4D4D\"  # dark grey (for clear)\n",
        "\n",
        "    btn.on_click(on_button_click)\n",
        "    return btn\n",
        "\n",
        "# Assemble rows\n",
        "rows = []\n",
        "for row in button_labels:\n",
        "    button_row = [get_button(label) for label in row]\n",
        "    rows.append(widgets.HBox(button_row))\n",
        "\n",
        "# ------------------------------\n",
        "# Display everything\n",
        "# ------------------------------\n",
        "display(display_area)\n",
        "for row in rows:\n",
        "    display(row)\n",
        "display(output)\n"
      ]
    }
  ],
  "metadata": {
    "colab": {
      "authorship_tag": "ABX9TyOPcCER37Hq/IEsxhtN9cyV",
      "include_colab_link": true,
      "provenance": []
    },
    "kernelspec": {
      "display_name": "Python 3",
      "name": "python3"
    },
    "language_info": {
      "name": "python"
    }
  },
  "nbformat": 4,
  "nbformat_minor": 0
}